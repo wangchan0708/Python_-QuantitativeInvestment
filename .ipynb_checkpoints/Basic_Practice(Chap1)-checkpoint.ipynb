{
 "cells": [
  {
   "cell_type": "markdown",
   "metadata": {},
   "source": [
    "在分析股票的收益率數據時，我們往往需咬求出收益率大於0的天數或是收益率小於0的天數。假設收益率數據為一個串列，利用MAP函數和匿名運算式慈做一個計算收益率大於0的天數的函數"
   ]
  },
  {
   "cell_type": "code",
   "execution_count": 2,
   "metadata": {
    "tags": []
   },
   "outputs": [
    {
     "name": "stdout",
     "output_type": "stream",
     "text": [
      "Hello\n"
     ]
    }
   ],
   "source": []
  },
  {
   "cell_type": "markdown",
   "metadata": {},
   "source": [
    "建立一個信用卡帳戶類別，該類別為銀行帳戶類別的子類別。除了帳戶類別的屬性外，該類別還有信用額度屬性，以及透支額屬性。此外，該類別還需要複寫父類別的取款方式，該方法在取款額超過帳戶額度且兩者的差值不超過信用額度，會修改透支額屬性;而當差值超過了信用額度時則會提示交易失敗。建立一個信用卡帳戶類別物件，用戶名為Sam，餘額為1000，信用額度為1000。先取出700，在取出1500，看看結果如何"
   ]
  },
  {
   "cell_type": "code",
   "execution_count": null,
   "metadata": {},
   "outputs": [],
   "source": []
  },
  {
   "cell_type": "markdown",
   "metadata": {},
   "source": [
    "分別設計一個疊代器及一個產生器，兩者皆能反向片歷完入的資料並一一回傳其中的元素。例如，若傳入[1,2,3]則依序逐次回傳3,2,1;若傳入\"abc\"，則依序逐次回傳c,b,a"
   ]
  }
 ],
 "metadata": {
  "kernelspec": {
   "display_name": "Python 3",
   "language": "python",
   "name": "python3"
  },
  "language_info": {
   "codemirror_mode": {
    "name": "ipython",
    "version": 3
   },
   "file_extension": ".py",
   "mimetype": "text/x-python",
   "name": "python",
   "nbconvert_exporter": "python",
   "pygments_lexer": "ipython3",
   "version": "3.7.4"
  }
 },
 "nbformat": 4,
 "nbformat_minor": 2
}
